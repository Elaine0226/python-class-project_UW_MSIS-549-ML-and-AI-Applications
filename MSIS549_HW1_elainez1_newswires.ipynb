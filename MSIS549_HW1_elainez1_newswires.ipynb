{
  "nbformat": 4,
  "nbformat_minor": 0,
  "metadata": {
    "colab": {
      "name": "MSIS549_HW1_elainez1_newswires.ipynb",
      "provenance": [],
      "collapsed_sections": []
    },
    "language_info": {
      "codemirror_mode": {
        "name": "ipython",
        "version": 3
      },
      "file_extension": ".py",
      "mimetype": "text/x-python",
      "name": "python",
      "nbconvert_exporter": "python",
      "pygments_lexer": "ipython3",
      "version": "3.5.2"
    },
    "kernelspec": {
      "display_name": "Python 3",
      "language": "python",
      "name": "python3"
    }
  },
  "cells": [
    {
      "cell_type": "code",
      "metadata": {
        "id": "_0lDkFZq3ohI",
        "colab": {
          "base_uri": "https://localhost:8080/"
        },
        "outputId": "d50497a7-2a0d-41be-c106-26163d7a4c9f"
      },
      "source": [
        "%tensorflow_version 1.14\n",
        "%matplotlib inline\n",
        "import warnings\n",
        "warnings.filterwarnings('ignore')\n",
        "\n",
        "import tensorflow as tf\n",
        "tf.logging.set_verbosity(tf.logging.ERROR)\n",
        "\n",
        "import keras\n",
        "keras.__version__\n",
        "\n",
        "!pip install numpy==1.16.1\n",
        "import numpy as np"
      ],
      "execution_count": 1,
      "outputs": [
        {
          "output_type": "stream",
          "text": [
            "`%tensorflow_version` only switches the major version: 1.x or 2.x.\n",
            "You set: `1.14`. This will be interpreted as: `1.x`.\n",
            "\n",
            "\n",
            "TensorFlow 1.x selected.\n"
          ],
          "name": "stdout"
        },
        {
          "output_type": "stream",
          "text": [
            "Using TensorFlow backend.\n"
          ],
          "name": "stderr"
        },
        {
          "output_type": "stream",
          "text": [
            "Requirement already satisfied: numpy==1.16.1 in /usr/local/lib/python3.7/dist-packages (1.16.1)\n"
          ],
          "name": "stdout"
        }
      ]
    },
    {
      "cell_type": "markdown",
      "metadata": {
        "id": "bu5jf9gW3ohR"
      },
      "source": [
        "# Classifying newswires: a multi-class classification example\n",
        "\n",
        "In this homework, we will build a network to classify Reuters newswires into 46 different mutually-exclusive topics. Since we have many \n",
        "classes, this problem is an instance of \"multi-class classification\", and since each data point should be classified into only one \n",
        "category, the problem is more specifically an instance of \"single-label, multi-class classification\"."
      ]
    },
    {
      "cell_type": "markdown",
      "metadata": {
        "id": "_-s49gXW3ohT"
      },
      "source": [
        "## The Reuters dataset\n",
        "\n",
        "\n",
        "We will be working with the _Reuters dataset_, a set of short newswires and their topics, published by Reuters in 1986. It's a very simple, \n",
        "widely used toy dataset for text classification. There are 46 different topics; some topics are more represented than others, but each \n",
        "topic has at least 10 examples in the training set.\n",
        "\n",
        "Like IMDB and MNIST, the Reuters dataset comes packaged as part of Keras. Let's take a look right away:"
      ]
    },
    {
      "cell_type": "code",
      "metadata": {
        "id": "yjSiBNZS3ohU"
      },
      "source": [
        "from keras.datasets import reuters\n",
        "\n",
        "(train_data, train_labels), (test_data, test_labels) = reuters.load_data(num_words=10000)"
      ],
      "execution_count": 2,
      "outputs": []
    },
    {
      "cell_type": "markdown",
      "metadata": {
        "id": "-VRrIjNI3ohX"
      },
      "source": [
        "\n",
        "Like with the IMDB dataset, the argument `num_words=10000` restricts the data to the 10,000 most frequently occurring words found in the \n",
        "data.\n",
        "\n",
        "We have 8,982 training examples and 2,246 test examples:"
      ]
    },
    {
      "cell_type": "code",
      "metadata": {
        "id": "-BXfAp-K7jGd"
      },
      "source": [
        ""
      ],
      "execution_count": 2,
      "outputs": []
    },
    {
      "cell_type": "markdown",
      "metadata": {
        "id": "FMdiLzvF3ohf"
      },
      "source": [
        "As with the IMDB reviews, each example is a list of integers (word indices):"
      ]
    },
    {
      "cell_type": "code",
      "metadata": {
        "id": "QriVgMSe3ohg",
        "colab": {
          "base_uri": "https://localhost:8080/"
        },
        "outputId": "bf431c4f-0781-448b-c6b8-f6713f7de1e5"
      },
      "source": [
        "train_data[0]"
      ],
      "execution_count": 3,
      "outputs": [
        {
          "output_type": "execute_result",
          "data": {
            "text/plain": [
              "[1,\n",
              " 2,\n",
              " 2,\n",
              " 8,\n",
              " 43,\n",
              " 10,\n",
              " 447,\n",
              " 5,\n",
              " 25,\n",
              " 207,\n",
              " 270,\n",
              " 5,\n",
              " 3095,\n",
              " 111,\n",
              " 16,\n",
              " 369,\n",
              " 186,\n",
              " 90,\n",
              " 67,\n",
              " 7,\n",
              " 89,\n",
              " 5,\n",
              " 19,\n",
              " 102,\n",
              " 6,\n",
              " 19,\n",
              " 124,\n",
              " 15,\n",
              " 90,\n",
              " 67,\n",
              " 84,\n",
              " 22,\n",
              " 482,\n",
              " 26,\n",
              " 7,\n",
              " 48,\n",
              " 4,\n",
              " 49,\n",
              " 8,\n",
              " 864,\n",
              " 39,\n",
              " 209,\n",
              " 154,\n",
              " 6,\n",
              " 151,\n",
              " 6,\n",
              " 83,\n",
              " 11,\n",
              " 15,\n",
              " 22,\n",
              " 155,\n",
              " 11,\n",
              " 15,\n",
              " 7,\n",
              " 48,\n",
              " 9,\n",
              " 4579,\n",
              " 1005,\n",
              " 504,\n",
              " 6,\n",
              " 258,\n",
              " 6,\n",
              " 272,\n",
              " 11,\n",
              " 15,\n",
              " 22,\n",
              " 134,\n",
              " 44,\n",
              " 11,\n",
              " 15,\n",
              " 16,\n",
              " 8,\n",
              " 197,\n",
              " 1245,\n",
              " 90,\n",
              " 67,\n",
              " 52,\n",
              " 29,\n",
              " 209,\n",
              " 30,\n",
              " 32,\n",
              " 132,\n",
              " 6,\n",
              " 109,\n",
              " 15,\n",
              " 17,\n",
              " 12]"
            ]
          },
          "metadata": {
            "tags": []
          },
          "execution_count": 3
        }
      ]
    },
    {
      "cell_type": "markdown",
      "metadata": {
        "id": "kIvaOPin3ohj"
      },
      "source": [
        "Here's how you can decode it back to words, in case you are curious:"
      ]
    },
    {
      "cell_type": "code",
      "metadata": {
        "id": "EZg6ME3Y3ohk",
        "colab": {
          "base_uri": "https://localhost:8080/"
        },
        "outputId": "7c5de74b-32a2-47d2-a3d6-f26e90f903d9"
      },
      "source": [
        "word_index = reuters.get_word_index()\n",
        "reverse_word_index = dict([(value, key) for (key, value) in word_index.items()])\n",
        "# Note that our indices were offset by 3\n",
        "# because 0, 1 and 2 are reserved indices for \"padding\", \"start of sequence\", and \"unknown\".\n",
        "decoded_newswire = ' '.join([reverse_word_index.get(i - 3, '?') for i in train_data[0]])\n",
        "\n",
        "print(\"The decoded text:\" + decoded_newswire)"
      ],
      "execution_count": 4,
      "outputs": [
        {
          "output_type": "stream",
          "text": [
            "The decoded text:? ? ? said as a result of its december acquisition of space co it expects earnings per share in 1987 of 1 15 to 1 30 dlrs per share up from 70 cts in 1986 the company said pretax net should rise to nine to 10 mln dlrs from six mln dlrs in 1986 and rental operation revenues to 19 to 22 mln dlrs from 12 5 mln dlrs it said cash flow per share this year should be 2 50 to three dlrs reuter 3\n"
          ],
          "name": "stdout"
        }
      ]
    },
    {
      "cell_type": "markdown",
      "metadata": {
        "id": "yntI1JS33oho"
      },
      "source": [
        "The label associated with an example is an integer between 0 and 45: a topic index."
      ]
    },
    {
      "cell_type": "code",
      "metadata": {
        "id": "swMqUzqz3ohq",
        "colab": {
          "base_uri": "https://localhost:8080/"
        },
        "outputId": "ff669fd8-c626-451d-c31a-24d0e6fba9bb"
      },
      "source": [
        "train_labels[0]"
      ],
      "execution_count": 5,
      "outputs": [
        {
          "output_type": "execute_result",
          "data": {
            "text/plain": [
              "3"
            ]
          },
          "metadata": {
            "tags": []
          },
          "execution_count": 5
        }
      ]
    },
    {
      "cell_type": "markdown",
      "metadata": {
        "id": "fsLn40NK3oht"
      },
      "source": [
        "## Preparing the data\n",
        "\n",
        "We can vectorize the data with the exact same code as in our previous example:"
      ]
    },
    {
      "cell_type": "code",
      "metadata": {
        "id": "NDol7z_43ohu"
      },
      "source": [
        "import numpy as np\n",
        "\n",
        "def vectorize_sequences(sequences, dimension=10000):\n",
        "    results = np.zeros((len(sequences), dimension))\n",
        "    for i, sequence in enumerate(sequences):\n",
        "        results[i, sequence] = 1.\n",
        "    return results\n",
        "\n",
        "# Our vectorized training data\n",
        "x_train = vectorize_sequences(train_data)\n",
        "# Our vectorized test data\n",
        "x_test = vectorize_sequences(test_data)"
      ],
      "execution_count": 6,
      "outputs": []
    },
    {
      "cell_type": "markdown",
      "metadata": {
        "id": "9pte7Qr63ohv"
      },
      "source": [
        "\n",
        "Use \"one-hot\" encoding to vectorize the labels. One-hot encoding is a widely used format for categorical data, also called \"categorical encoding\". In our case, one-hot encoding of our labels consists in embedding each label as an all-zero vector with a 1 in the place of the label index. Note that there is a built-in way to do this in Keras."
      ]
    },
    {
      "cell_type": "code",
      "metadata": {
        "id": "XO_SmjOD3ohy"
      },
      "source": [
        "from keras.utils.np_utils import to_categorical\n",
        "\n",
        "one_hot_train_labels = to_categorical(train_labels)\n",
        "one_hot_test_labels = to_categorical(test_labels)"
      ],
      "execution_count": 7,
      "outputs": []
    },
    {
      "cell_type": "markdown",
      "metadata": {
        "id": "rMvTFcc03ohz"
      },
      "source": [
        "## Building our network\n",
        "\n",
        "\n",
        "This topic classification problem looks very similar to our previous movie review classification problem: in both cases, we are trying to \n",
        "classify short snippets of text. There is however a new constraint here: the number of output classes has gone from 2 to 46, i.e. the \n",
        "dimensionality of the output space is much larger. \n",
        "\n",
        "In a stack of `Dense` layers like what we were using, each layer can only access information present in the output of the previous layer. \n",
        "If one layer drops some information relevant to the classification problem, this information can never be recovered by later layers: each \n",
        "layer can potentially become an \"information bottleneck\". In our previous example, we were using 16-dimensional intermediate layers, but a \n",
        "16-dimensional space may be too limited to learn to separate 46 different classes: such small layers may act as information bottlenecks, \n",
        "permanently dropping relevant information.\n",
        "\n",
        "For this reason we will use larger layers. Let's go with 64 units:"
      ]
    },
    {
      "cell_type": "code",
      "metadata": {
        "id": "HdhwRTjx3ohz"
      },
      "source": [
        "from keras import models\n",
        "from keras import layers\n",
        "\n",
        "# TODO: specify the architecture of the model.\n",
        "model = keras.Sequential()\n",
        "model.add(layers.Dense(64, activation='relu',input_shape=(10000,)))\n",
        "model.add(layers.Dense(64, activation='relu'))\n",
        "model.add(layers.Dense(46, activation='softmax'))"
      ],
      "execution_count": 8,
      "outputs": []
    },
    {
      "cell_type": "markdown",
      "metadata": {
        "id": "V-Aj666N3oh1"
      },
      "source": [
        "\n",
        "There are two other things you should note about this architecture:\n",
        "\n",
        "* We are ending the network with a `Dense` layer of size 46. This means that for each input sample, our network will output a \n",
        "46-dimensional vector. Each entry in this vector (each dimension) will encode a different output class.\n",
        "* The last layer uses a `softmax` activation. You have already seen this pattern in the MNIST example. It means that the network will \n",
        "output a _probability distribution_ over the 46 different output classes, i.e. for every input sample, the network will produce a \n",
        "46-dimensional output vector where `output[i]` is the probability that the sample belongs to class `i`. The 46 scores will sum to 1.\n",
        "\n",
        "The best loss function to use in this case is `categorical_crossentropy`. It measures the distance between two probability distributions: \n",
        "in our case, between the probability distribution output by our network, and the true distribution of the labels. By minimizing the \n",
        "distance between these two distributions, we train our network to output something as close as possible to the true labels."
      ]
    },
    {
      "cell_type": "code",
      "metadata": {
        "id": "AhmA6zNZ3oh1"
      },
      "source": [
        "# TODO: compile the model you just built\n",
        "model.compile(optimizer='rmsprop',\n",
        "              loss='categorical_crossentropy',\n",
        "              metrics=['accuracy'])"
      ],
      "execution_count": 9,
      "outputs": []
    },
    {
      "cell_type": "markdown",
      "metadata": {
        "id": "TGB_cp8B3oh2"
      },
      "source": [
        "## Validating our approach\n",
        "\n",
        "Let's set apart 1,000 samples in our training data to use as a validation set:"
      ]
    },
    {
      "cell_type": "code",
      "metadata": {
        "id": "Y3eyzgOA3oh2"
      },
      "source": [
        "x_val = x_train[:1000]\n",
        "partial_x_train = x_train[1000:]\n",
        "\n",
        "y_val = one_hot_train_labels[:1000]\n",
        "partial_y_train = one_hot_train_labels[1000:]"
      ],
      "execution_count": 10,
      "outputs": []
    },
    {
      "cell_type": "markdown",
      "metadata": {
        "id": "vIFUZkt43oh3"
      },
      "source": [
        "Now let's train our network for 20 epochs:"
      ]
    },
    {
      "cell_type": "code",
      "metadata": {
        "id": "MM57jbod3oh3",
        "colab": {
          "base_uri": "https://localhost:8080/"
        },
        "outputId": "77279665-bdc7-4d02-83c7-c0a8f7aa5275"
      },
      "source": [
        "# TODO: fit the model with the training dataset and provide validation data \n",
        "# to help check overfitting\n",
        "history = model.fit(\n",
        "    partial_x_train, \n",
        "    partial_y_train, \n",
        "    epochs=20, \n",
        "    batch_size=512, \n",
        "    validation_data=(x_val, y_val)\n",
        ")"
      ],
      "execution_count": 11,
      "outputs": [
        {
          "output_type": "stream",
          "text": [
            "Train on 7982 samples, validate on 1000 samples\n",
            "Epoch 1/20\n",
            "7982/7982 [==============================] - 1s 137us/step - loss: 2.6329 - accuracy: 0.5189 - val_loss: 1.7404 - val_accuracy: 0.6480\n",
            "Epoch 2/20\n",
            "7982/7982 [==============================] - 1s 116us/step - loss: 1.4204 - accuracy: 0.7081 - val_loss: 1.2969 - val_accuracy: 0.7120\n",
            "Epoch 3/20\n",
            "7982/7982 [==============================] - 1s 117us/step - loss: 1.0447 - accuracy: 0.7839 - val_loss: 1.1249 - val_accuracy: 0.7660\n",
            "Epoch 4/20\n",
            "7982/7982 [==============================] - 1s 117us/step - loss: 0.8177 - accuracy: 0.8317 - val_loss: 1.0349 - val_accuracy: 0.7870\n",
            "Epoch 5/20\n",
            "7982/7982 [==============================] - 1s 116us/step - loss: 0.6504 - accuracy: 0.8664 - val_loss: 0.9571 - val_accuracy: 0.8110\n",
            "Epoch 6/20\n",
            "7982/7982 [==============================] - 1s 116us/step - loss: 0.5211 - accuracy: 0.8943 - val_loss: 0.9187 - val_accuracy: 0.8080\n",
            "Epoch 7/20\n",
            "7982/7982 [==============================] - 1s 115us/step - loss: 0.4190 - accuracy: 0.9126 - val_loss: 0.8981 - val_accuracy: 0.8230\n",
            "Epoch 8/20\n",
            "7982/7982 [==============================] - 1s 116us/step - loss: 0.3398 - accuracy: 0.9282 - val_loss: 0.8881 - val_accuracy: 0.8090\n",
            "Epoch 9/20\n",
            "7982/7982 [==============================] - 1s 115us/step - loss: 0.2800 - accuracy: 0.9392 - val_loss: 0.9381 - val_accuracy: 0.7990\n",
            "Epoch 10/20\n",
            "7982/7982 [==============================] - 1s 116us/step - loss: 0.2420 - accuracy: 0.9445 - val_loss: 0.9295 - val_accuracy: 0.8090\n",
            "Epoch 11/20\n",
            "7982/7982 [==============================] - 1s 113us/step - loss: 0.2058 - accuracy: 0.9485 - val_loss: 0.9221 - val_accuracy: 0.8130\n",
            "Epoch 12/20\n",
            "7982/7982 [==============================] - 1s 113us/step - loss: 0.1814 - accuracy: 0.9515 - val_loss: 0.9288 - val_accuracy: 0.8200\n",
            "Epoch 13/20\n",
            "7982/7982 [==============================] - 1s 113us/step - loss: 0.1659 - accuracy: 0.9531 - val_loss: 1.0167 - val_accuracy: 0.7970\n",
            "Epoch 14/20\n",
            "7982/7982 [==============================] - 1s 117us/step - loss: 0.1544 - accuracy: 0.9528 - val_loss: 0.9817 - val_accuracy: 0.8120\n",
            "Epoch 15/20\n",
            "7982/7982 [==============================] - 1s 119us/step - loss: 0.1379 - accuracy: 0.9562 - val_loss: 0.9963 - val_accuracy: 0.8130\n",
            "Epoch 16/20\n",
            "7982/7982 [==============================] - 1s 115us/step - loss: 0.1323 - accuracy: 0.9563 - val_loss: 0.9705 - val_accuracy: 0.8190\n",
            "Epoch 17/20\n",
            "7982/7982 [==============================] - 1s 116us/step - loss: 0.1249 - accuracy: 0.9573 - val_loss: 1.0338 - val_accuracy: 0.8100\n",
            "Epoch 18/20\n",
            "7982/7982 [==============================] - 1s 117us/step - loss: 0.1192 - accuracy: 0.9572 - val_loss: 1.0279 - val_accuracy: 0.8160\n",
            "Epoch 19/20\n",
            "7982/7982 [==============================] - 1s 114us/step - loss: 0.1181 - accuracy: 0.9550 - val_loss: 1.0573 - val_accuracy: 0.8050\n",
            "Epoch 20/20\n",
            "7982/7982 [==============================] - 1s 117us/step - loss: 0.1099 - accuracy: 0.9574 - val_loss: 1.1242 - val_accuracy: 0.8000\n"
          ],
          "name": "stdout"
        }
      ]
    },
    {
      "cell_type": "markdown",
      "metadata": {
        "id": "Rq5P0gWQ3oh5"
      },
      "source": [
        "Let's display its loss and accuracy curves to help identify when it starts to overfit."
      ]
    },
    {
      "cell_type": "code",
      "metadata": {
        "id": "EIRFHE0U3oh5",
        "colab": {
          "base_uri": "https://localhost:8080/",
          "height": 295
        },
        "outputId": "1c9c7407-54a0-46be-ed0c-062aeeeaad27"
      },
      "source": [
        "import matplotlib.pyplot as plt\n",
        "\n",
        "# TODO: plot the model loss on both training and validation data. \n",
        "loss = history.history['loss']\n",
        "val_loss = history.history['val_loss']\n",
        "\n",
        "epochs = range(1, len(loss) + 1)\n",
        "\n",
        "# \"bo\" is for \"blue dot\"\n",
        "plt.plot(epochs, loss, 'bo', label='Training loss')\n",
        "# b is for \"solid blue line\"\n",
        "plt.plot(epochs, val_loss, 'b', label='Validation loss')\n",
        "plt.title('Training and validation loss')\n",
        "plt.xlabel('Epochs')\n",
        "plt.ylabel('Loss')\n",
        "plt.legend()\n",
        "\n",
        "plt.show()"
      ],
      "execution_count": 12,
      "outputs": [
        {
          "output_type": "display_data",
          "data": {
            "image/png": "[encoded data removed]",
            "text/plain": [
              "<Figure size 432x288 with 1 Axes>"
            ]
          },
          "metadata": {
            "tags": [],
            "needs_background": "light"
          }
        }
      ]
    },
    {
      "cell_type": "code",
      "metadata": {
        "id": "M69rtt143oh6",
        "colab": {
          "base_uri": "https://localhost:8080/",
          "height": 295
        },
        "outputId": "bef5ef56-64ec-4107-9ec9-3bfc9522ee89"
      },
      "source": [
        "# TODO: plot prediction accuracy on both training and validation data. \n",
        "plt.clf()   # clear figure\n",
        "acc = history.history['accuracy']\n",
        "val_acc = history.history['val_accuracy']\n",
        "\n",
        "plt.plot(epochs, acc, 'bo', label='Training acc')\n",
        "plt.plot(epochs, val_acc, 'b', label='Validation acc')\n",
        "plt.title('Training and validation accuracy')\n",
        "plt.xlabel('Epochs')\n",
        "plt.ylabel('Accuracy')\n",
        "plt.legend()\n",
        "\n",
        "plt.show()"
      ],
      "execution_count": 13,
      "outputs": [
        {
          "output_type": "display_data",
          "data": {
            "image/png": "[encoded data removed]",
            "text/plain": [
              "<Figure size 432x288 with 1 Axes>"
            ]
          },
          "metadata": {
            "tags": [],
            "needs_background": "light"
          }
        }
      ]
    },
    {
      "cell_type": "markdown",
      "metadata": {
        "id": "LUarkgZd3oh7"
      },
      "source": [
        "It seems that the network starts overfitting after certain epochs. Let's train a new network from scratch for fewer epochs before it starts overfitting, then let's evaluate it on the test set:"
      ]
    },
    {
      "cell_type": "code",
      "metadata": {
        "id": "IciZ2dMP3oh8",
        "colab": {
          "base_uri": "https://localhost:8080/"
        },
        "outputId": "a9aa7213-bb44-4a1e-ca9a-510ee8521b3a"
      },
      "source": [
        "# TODO: retrain the model with the fewer epoches to avoid overfitting\n",
        "model = keras.Sequential()\n",
        "model.add(layers.Dense(64, activation='relu',input_shape=(10000,)))\n",
        "model.add(layers.Dense(64, activation='relu'))\n",
        "model.add(layers.Dense(46, activation='softmax'))\n",
        "\n",
        "model.compile(\n",
        "    optimizer = 'rmsprop',\n",
        "    loss='categorical_crossentropy',\n",
        "    metrics=['accuracy']\n",
        ")\n",
        "\n",
        "model.fit(\n",
        "    partial_x_train, \n",
        "    partial_y_train, \n",
        "    epochs=10, \n",
        "    batch_size=512, \n",
        "    validation_data=(x_val, y_val)\n",
        ")"
      ],
      "execution_count": 14,
      "outputs": [
        {
          "output_type": "stream",
          "text": [
            "Train on 7982 samples, validate on 1000 samples\n",
            "Epoch 1/10\n",
            "7982/7982 [==============================] - 1s 124us/step - loss: 2.7028 - accuracy: 0.5023 - val_loss: 1.7979 - val_accuracy: 0.6750\n",
            "Epoch 2/10\n",
            "7982/7982 [==============================] - 1s 116us/step - loss: 1.4535 - accuracy: 0.7088 - val_loss: 1.3253 - val_accuracy: 0.7100\n",
            "Epoch 3/10\n",
            "7982/7982 [==============================] - 1s 117us/step - loss: 1.0698 - accuracy: 0.7724 - val_loss: 1.1335 - val_accuracy: 0.7630\n",
            "Epoch 4/10\n",
            "7982/7982 [==============================] - 1s 117us/step - loss: 0.8390 - accuracy: 0.8197 - val_loss: 1.0237 - val_accuracy: 0.7720\n",
            "Epoch 5/10\n",
            "7982/7982 [==============================] - 1s 117us/step - loss: 0.6649 - accuracy: 0.8589 - val_loss: 0.9539 - val_accuracy: 0.8060\n",
            "Epoch 6/10\n",
            "7982/7982 [==============================] - 1s 116us/step - loss: 0.5299 - accuracy: 0.8891 - val_loss: 0.9004 - val_accuracy: 0.8160\n",
            "Epoch 7/10\n",
            "7982/7982 [==============================] - 1s 117us/step - loss: 0.4244 - accuracy: 0.9090 - val_loss: 0.8878 - val_accuracy: 0.8180\n",
            "Epoch 8/10\n",
            "7982/7982 [==============================] - 1s 115us/step - loss: 0.3438 - accuracy: 0.9256 - val_loss: 0.8938 - val_accuracy: 0.8170\n",
            "Epoch 9/10\n",
            "7982/7982 [==============================] - 1s 117us/step - loss: 0.2866 - accuracy: 0.9344 - val_loss: 0.8853 - val_accuracy: 0.8290\n",
            "Epoch 10/10\n",
            "7982/7982 [==============================] - 1s 113us/step - loss: 0.2375 - accuracy: 0.9468 - val_loss: 0.8991 - val_accuracy: 0.8190\n"
          ],
          "name": "stdout"
        },
        {
          "output_type": "execute_result",
          "data": {
            "text/plain": [
              "<keras.callbacks.callbacks.History at 0x7fedf9664650>"
            ]
          },
          "metadata": {
            "tags": []
          },
          "execution_count": 14
        }
      ]
    },
    {
      "cell_type": "markdown",
      "metadata": {
        "id": "XQ3VcXyx3oh_"
      },
      "source": [
        "\n",
        "Your model should reach an accuracy of ~78%. With a balanced binary classification problem, the accuracy reached by a purely random classifier \n",
        "would be 50%, but in our case it is closer to 19%, so our results seem pretty good, at least when compared to a random baseline."
      ]
    },
    {
      "cell_type": "markdown",
      "metadata": {
        "id": "FEzjb1m33oiA"
      },
      "source": [
        "## Generating predictions on new data\n",
        "\n",
        "We can verify that the `predict` method of our model instance returns a probability distribution over all 46 topics. Let's generate topic \n",
        "predictions for all of the test data:"
      ]
    },
    {
      "cell_type": "code",
      "metadata": {
        "id": "lIuTWvUq3oiB",
        "colab": {
          "base_uri": "https://localhost:8080/"
        },
        "outputId": "b54effde-f798-4bb3-b99a-0594927c6af6"
      },
      "source": [
        "# TODO: use the learnt neural network to make a prediction on \n",
        "# the test data \n",
        "model.predict(x_test)"
      ],
      "execution_count": 15,
      "outputs": [
        {
          "output_type": "execute_result",
          "data": {
            "text/plain": [
              "array([[6.72245442e-05, 1.85111072e-04, 1.27825697e-05, ...,\n",
              "        1.37878942e-05, 1.05311638e-05, 4.91625804e-04],\n",
              "       [1.40809342e-02, 1.46341771e-02, 1.60762458e-03, ...,\n",
              "        4.11814945e-05, 8.02198774e-05, 1.39939366e-05],\n",
              "       [1.65181533e-02, 6.74517393e-01, 6.53079152e-02, ...,\n",
              "        9.81650432e-04, 1.46055507e-04, 4.55941656e-04],\n",
              "       ...,\n",
              "       [1.21976950e-06, 9.71069894e-05, 7.79647689e-06, ...,\n",
              "        5.60812032e-06, 2.87417356e-06, 1.05795465e-04],\n",
              "       [1.28141954e-03, 7.46601447e-02, 3.81040480e-03, ...,\n",
              "        8.05074116e-04, 7.64047611e-04, 2.51152390e-03],\n",
              "       [7.36278424e-04, 3.10682118e-01, 6.71546236e-02, ...,\n",
              "        4.59217466e-04, 1.39986310e-04, 1.34343619e-03]], dtype=float32)"
            ]
          },
          "metadata": {
            "tags": []
          },
          "execution_count": 15
        }
      ]
    },
    {
      "cell_type": "markdown",
      "metadata": {
        "id": "O1LzmGXx3oiB"
      },
      "source": [
        "Each entry in `predictions` is a vector of length 46. **The** largest entry is the predicted class, i.e. the class with the highest probability:"
      ]
    },
    {
      "cell_type": "code",
      "metadata": {
        "id": "L3RyKAsw3oiB",
        "colab": {
          "base_uri": "https://localhost:8080/"
        },
        "outputId": "a6920a88-b1a7-400a-bfb0-1f7dd9bba09d"
      },
      "source": [
        "# TODO: evaluate model performan in terms of accuracy on prediction against the ground truth.\n",
        "predictions = model.predict(x_test)\n",
        "y_test = one_hot_test_labels\n",
        "test_loss, test_acc = model.evaluate(x_test, y_test)\n",
        "test_acc"
      ],
      "execution_count": 16,
      "outputs": [
        {
          "output_type": "stream",
          "text": [
            "2246/2246 [==============================] - 0s 111us/step\n"
          ],
          "name": "stdout"
        },
        {
          "output_type": "execute_result",
          "data": {
            "text/plain": [
              "0.7836152911186218"
            ]
          },
          "metadata": {
            "tags": []
          },
          "execution_count": 16
        }
      ]
    },
    {
      "cell_type": "markdown",
      "metadata": {
        "id": "Pw3GlSYG3oiH"
      },
      "source": [
        "## On the importance of having sufficiently large intermediate layers\n",
        "\n",
        "\n",
        "We mentioned earlier that since our final outputs were 46-dimensional, we should avoid intermediate layers with much less than 46 hidden \n",
        "units. Now let's try to see what happens when we introduce an information bottleneck by having intermediate layers significantly less than \n",
        "46-dimensional, e.g. 4-dimensional."
      ]
    },
    {
      "cell_type": "code",
      "metadata": {
        "id": "emfKokRe3oiH",
        "colab": {
          "base_uri": "https://localhost:8080/"
        },
        "outputId": "048be3b7-a028-456a-f88a-a69ac3ae4f59"
      },
      "source": [
        "# TODO: build a neural network with 4 neuron units in the hidden layer with the validation data \n",
        "# and evaluate its performance on the test data.\n",
        "\n",
        "model2 = keras.Sequential([\n",
        "  layers.Dense(64, activation='relu',input_shape=(10000,)),\n",
        "  layers.Dense(4, activation='relu'),\n",
        "  layers.Dense(46, activation='softmax')\n",
        "])\n",
        "model2.compile(optimizer='rmsprop',\n",
        "              loss='categorical_crossentropy',\n",
        "              metrics=['accuracy'])\n",
        "model2.fit(partial_x_train,\n",
        "          partial_y_train,\n",
        "          epochs=20,\n",
        "          batch_size=128,\n",
        "          validation_data=(x_val, y_val))\n",
        "\n",
        "test_loss2, test_acc2 = model2.evaluate(x_test, y_test)\n",
        "test_acc2"
      ],
      "execution_count": 17,
      "outputs": [
        {
          "output_type": "stream",
          "text": [
            "Train on 7982 samples, validate on 1000 samples\n",
            "Epoch 1/20\n",
            "7982/7982 [==============================] - 1s 179us/step - loss: 2.8661 - accuracy: 0.4559 - val_loss: 2.0957 - val_accuracy: 0.5690\n",
            "Epoch 2/20\n",
            "7982/7982 [==============================] - 1s 161us/step - loss: 1.7100 - accuracy: 0.5867 - val_loss: 1.6043 - val_accuracy: 0.5930\n",
            "Epoch 3/20\n",
            "7982/7982 [==============================] - 1s 161us/step - loss: 1.4188 - accuracy: 0.6139 - val_loss: 1.4923 - val_accuracy: 0.6390\n",
            "Epoch 4/20\n",
            "7982/7982 [==============================] - 1s 166us/step - loss: 1.2804 - accuracy: 0.6877 - val_loss: 1.4398 - val_accuracy: 0.6570\n",
            "Epoch 5/20\n",
            "7982/7982 [==============================] - 1s 162us/step - loss: 1.1767 - accuracy: 0.7037 - val_loss: 1.4226 - val_accuracy: 0.6770\n",
            "Epoch 6/20\n",
            "7982/7982 [==============================] - 1s 159us/step - loss: 1.0945 - accuracy: 0.7179 - val_loss: 1.4189 - val_accuracy: 0.6870\n",
            "Epoch 7/20\n",
            "7982/7982 [==============================] - 1s 160us/step - loss: 1.0241 - accuracy: 0.7270 - val_loss: 1.4169 - val_accuracy: 0.6830\n",
            "Epoch 8/20\n",
            "7982/7982 [==============================] - 1s 162us/step - loss: 0.9674 - accuracy: 0.7301 - val_loss: 1.4281 - val_accuracy: 0.6870\n",
            "Epoch 9/20\n",
            "7982/7982 [==============================] - 1s 161us/step - loss: 0.9208 - accuracy: 0.7362 - val_loss: 1.4613 - val_accuracy: 0.6790\n",
            "Epoch 10/20\n",
            "7982/7982 [==============================] - 1s 160us/step - loss: 0.8810 - accuracy: 0.7417 - val_loss: 1.4882 - val_accuracy: 0.6800\n",
            "Epoch 11/20\n",
            "7982/7982 [==============================] - 1s 167us/step - loss: 0.8472 - accuracy: 0.7536 - val_loss: 1.5337 - val_accuracy: 0.6780\n",
            "Epoch 12/20\n",
            "7982/7982 [==============================] - 1s 168us/step - loss: 0.8144 - accuracy: 0.7605 - val_loss: 1.5803 - val_accuracy: 0.6760\n",
            "Epoch 13/20\n",
            "7982/7982 [==============================] - 1s 157us/step - loss: 0.7884 - accuracy: 0.7655 - val_loss: 1.6265 - val_accuracy: 0.6750\n",
            "Epoch 14/20\n",
            "7982/7982 [==============================] - 1s 155us/step - loss: 0.7624 - accuracy: 0.7687 - val_loss: 1.6604 - val_accuracy: 0.6750\n",
            "Epoch 15/20\n",
            "7982/7982 [==============================] - 1s 157us/step - loss: 0.7413 - accuracy: 0.7755 - val_loss: 1.7454 - val_accuracy: 0.6680\n",
            "Epoch 16/20\n",
            "7982/7982 [==============================] - 1s 154us/step - loss: 0.7219 - accuracy: 0.7794 - val_loss: 1.7747 - val_accuracy: 0.6690\n",
            "Epoch 17/20\n",
            "7982/7982 [==============================] - 1s 161us/step - loss: 0.7028 - accuracy: 0.7843 - val_loss: 1.8391 - val_accuracy: 0.6720\n",
            "Epoch 18/20\n",
            "7982/7982 [==============================] - 1s 160us/step - loss: 0.6864 - accuracy: 0.7868 - val_loss: 1.8741 - val_accuracy: 0.6730\n",
            "Epoch 19/20\n",
            "7982/7982 [==============================] - 1s 157us/step - loss: 0.6714 - accuracy: 0.7880 - val_loss: 1.9504 - val_accuracy: 0.6630\n",
            "Epoch 20/20\n",
            "7982/7982 [==============================] - 1s 154us/step - loss: 0.6563 - accuracy: 0.7919 - val_loss: 1.9808 - val_accuracy: 0.6700\n",
            "2246/2246 [==============================] - 0s 98us/step\n"
          ],
          "name": "stdout"
        },
        {
          "output_type": "execute_result",
          "data": {
            "text/plain": [
              "0.6558325886726379"
            ]
          },
          "metadata": {
            "tags": []
          },
          "execution_count": 17
        }
      ]
    },
    {
      "cell_type": "markdown",
      "metadata": {
        "id": "M6wV_AR23oiI"
      },
      "source": [
        "\n",
        "You should see the model performance drop. This drop is mostly due to the fact that we are now trying to compress a lot of information (enough information to recover the separation hyperplanes of 46 classes) into an intermediate space that is too low-dimensional. The network is able to cram _most_ of the necessary information into these 8-dimensional representations, but not all of it."
      ]
    },
    {
      "cell_type": "markdown",
      "metadata": {
        "id": "8bFLuR8b3oiI"
      },
      "source": [
        "## Try using larger or smaller hidden layers: 32 units, and 128 units, and see if you will be able to improve the model performance on the test data.\n"
      ]
    },
    {
      "cell_type": "code",
      "metadata": {
        "id": "B1v7pFMGrEik",
        "colab": {
          "base_uri": "https://localhost:8080/"
        },
        "outputId": "4367957b-321a-41a2-8802-e76452e965ff"
      },
      "source": [
        "# TODO: Try using larger or smaller hidden layers: 32 units, and 128 units\n",
        "model3 = keras.Sequential([\n",
        "  layers.Dense(64, activation='relu',input_shape=(10000,)),\n",
        "  layers.Dense(32, activation='relu'),\n",
        "  layers.Dense(46, activation='softmax')\n",
        "])\n",
        "model3.compile(optimizer='rmsprop',\n",
        "              loss='categorical_crossentropy',\n",
        "              metrics=['accuracy'])\n",
        "model3.fit(partial_x_train,\n",
        "          partial_y_train,\n",
        "          epochs=20,\n",
        "          batch_size=128,\n",
        "          validation_data=(x_val, y_val))\n",
        "\n",
        "test_loss3, test_acc3 = model3.evaluate(x_test, y_test)\n",
        "test_acc3"
      ],
      "execution_count": 18,
      "outputs": [
        {
          "output_type": "stream",
          "text": [
            "Train on 7982 samples, validate on 1000 samples\n",
            "Epoch 1/20\n",
            "7982/7982 [==============================] - 1s 168us/step - loss: 1.9879 - accuracy: 0.5943 - val_loss: 1.3043 - val_accuracy: 0.7020\n",
            "Epoch 2/20\n",
            "7982/7982 [==============================] - 1s 155us/step - loss: 1.0536 - accuracy: 0.7722 - val_loss: 1.0653 - val_accuracy: 0.7620\n",
            "Epoch 3/20\n",
            "7982/7982 [==============================] - 1s 154us/step - loss: 0.7538 - accuracy: 0.8351 - val_loss: 0.9718 - val_accuracy: 0.7860\n",
            "Epoch 4/20\n",
            "7982/7982 [==============================] - 1s 156us/step - loss: 0.5472 - accuracy: 0.8826 - val_loss: 0.8885 - val_accuracy: 0.8170\n",
            "Epoch 5/20\n",
            "7982/7982 [==============================] - 1s 157us/step - loss: 0.4058 - accuracy: 0.9118 - val_loss: 0.8918 - val_accuracy: 0.8130\n",
            "Epoch 6/20\n",
            "7982/7982 [==============================] - 1s 156us/step - loss: 0.3078 - accuracy: 0.9323 - val_loss: 0.9433 - val_accuracy: 0.8100\n",
            "Epoch 7/20\n",
            "7982/7982 [==============================] - 1s 160us/step - loss: 0.2500 - accuracy: 0.9437 - val_loss: 0.9921 - val_accuracy: 0.8050\n",
            "Epoch 8/20\n",
            "7982/7982 [==============================] - 1s 156us/step - loss: 0.2075 - accuracy: 0.9501 - val_loss: 0.9790 - val_accuracy: 0.8080\n",
            "Epoch 9/20\n",
            "7982/7982 [==============================] - 1s 156us/step - loss: 0.1803 - accuracy: 0.9504 - val_loss: 0.9884 - val_accuracy: 0.8100\n",
            "Epoch 10/20\n",
            "7982/7982 [==============================] - 1s 160us/step - loss: 0.1624 - accuracy: 0.9526 - val_loss: 0.9976 - val_accuracy: 0.8160\n",
            "Epoch 11/20\n",
            "7982/7982 [==============================] - 1s 158us/step - loss: 0.1550 - accuracy: 0.9525 - val_loss: 1.0651 - val_accuracy: 0.8070\n",
            "Epoch 12/20\n",
            "7982/7982 [==============================] - 1s 157us/step - loss: 0.1445 - accuracy: 0.9541 - val_loss: 1.1246 - val_accuracy: 0.8050\n",
            "Epoch 13/20\n",
            "7982/7982 [==============================] - 1s 156us/step - loss: 0.1365 - accuracy: 0.9560 - val_loss: 1.0870 - val_accuracy: 0.8170\n",
            "Epoch 14/20\n",
            "7982/7982 [==============================] - 1s 153us/step - loss: 0.1304 - accuracy: 0.9567 - val_loss: 1.1237 - val_accuracy: 0.8040\n",
            "Epoch 15/20\n",
            "7982/7982 [==============================] - 1s 158us/step - loss: 0.1264 - accuracy: 0.9578 - val_loss: 1.1842 - val_accuracy: 0.7950\n",
            "Epoch 16/20\n",
            "7982/7982 [==============================] - 1s 159us/step - loss: 0.1251 - accuracy: 0.9578 - val_loss: 1.1768 - val_accuracy: 0.8060\n",
            "Epoch 17/20\n",
            "7982/7982 [==============================] - 1s 157us/step - loss: 0.1219 - accuracy: 0.9560 - val_loss: 1.1965 - val_accuracy: 0.8000\n",
            "Epoch 18/20\n",
            "7982/7982 [==============================] - 1s 156us/step - loss: 0.1228 - accuracy: 0.9559 - val_loss: 1.2399 - val_accuracy: 0.8080\n",
            "Epoch 19/20\n",
            "7982/7982 [==============================] - 1s 158us/step - loss: 0.1146 - accuracy: 0.9567 - val_loss: 1.2322 - val_accuracy: 0.8030\n",
            "Epoch 20/20\n",
            "7982/7982 [==============================] - 1s 154us/step - loss: 0.1161 - accuracy: 0.9549 - val_loss: 1.2796 - val_accuracy: 0.8040\n",
            "2246/2246 [==============================] - 0s 91us/step\n"
          ],
          "name": "stdout"
        },
        {
          "output_type": "execute_result",
          "data": {
            "text/plain": [
              "0.7782725095748901"
            ]
          },
          "metadata": {
            "tags": []
          },
          "execution_count": 18
        }
      ]
    },
    {
      "cell_type": "markdown",
      "metadata": {
        "id": "qJ1JPiTErD7X"
      },
      "source": [
        "\n",
        "## We were using two hidden layers. Now try to use a single hidden layer, or three hidden layers, and see if you will be able to improve the model performance on the test data.\n",
        "\n"
      ]
    },
    {
      "cell_type": "code",
      "metadata": {
        "id": "6zukIClyrh3k",
        "colab": {
          "base_uri": "https://localhost:8080/"
        },
        "outputId": "0dcb4344-5216-4719-ac58-4d0803ae7e92"
      },
      "source": [
        "# TODO: Try to use a single hidden layer, or three hidden layers\n",
        "model4 = keras.Sequential([\n",
        "  layers.Dense(64, activation='relu',input_shape=(10000,)),\n",
        "  layers.Dense(46, activation='softmax')\n",
        "])\n",
        "model4.compile(optimizer='rmsprop',\n",
        "              loss='categorical_crossentropy',\n",
        "              metrics=['accuracy'])\n",
        "model4.fit(partial_x_train,\n",
        "          partial_y_train,\n",
        "          epochs=20,\n",
        "          batch_size=128,\n",
        "          validation_data=(x_val, y_val))\n",
        "\n",
        "test_loss4, test_acc4 = model4.evaluate(x_test, y_test)\n",
        "test_acc4"
      ],
      "execution_count": 19,
      "outputs": [
        {
          "output_type": "stream",
          "text": [
            "Train on 7982 samples, validate on 1000 samples\n",
            "Epoch 1/20\n",
            "7982/7982 [==============================] - 1s 174us/step - loss: 1.9118 - accuracy: 0.6391 - val_loss: 1.2031 - val_accuracy: 0.7300\n",
            "Epoch 2/20\n",
            "7982/7982 [==============================] - 1s 155us/step - loss: 0.9522 - accuracy: 0.8002 - val_loss: 0.9555 - val_accuracy: 0.8050\n",
            "Epoch 3/20\n",
            "7982/7982 [==============================] - 1s 160us/step - loss: 0.6524 - accuracy: 0.8693 - val_loss: 0.8449 - val_accuracy: 0.8250\n",
            "Epoch 4/20\n",
            "7982/7982 [==============================] - 1s 158us/step - loss: 0.4675 - accuracy: 0.9039 - val_loss: 0.7960 - val_accuracy: 0.8260\n",
            "Epoch 5/20\n",
            "7982/7982 [==============================] - 1s 158us/step - loss: 0.3462 - accuracy: 0.9278 - val_loss: 0.7778 - val_accuracy: 0.8340\n",
            "Epoch 6/20\n",
            "7982/7982 [==============================] - 1s 158us/step - loss: 0.2704 - accuracy: 0.9394 - val_loss: 0.7988 - val_accuracy: 0.8340\n",
            "Epoch 7/20\n",
            "7982/7982 [==============================] - 1s 157us/step - loss: 0.2205 - accuracy: 0.9458 - val_loss: 0.8056 - val_accuracy: 0.8280\n",
            "Epoch 8/20\n",
            "7982/7982 [==============================] - 1s 160us/step - loss: 0.1879 - accuracy: 0.9513 - val_loss: 0.8272 - val_accuracy: 0.8290\n",
            "Epoch 9/20\n",
            "7982/7982 [==============================] - 1s 161us/step - loss: 0.1595 - accuracy: 0.9549 - val_loss: 0.8949 - val_accuracy: 0.8230\n",
            "Epoch 10/20\n",
            "7982/7982 [==============================] - 1s 163us/step - loss: 0.1474 - accuracy: 0.9564 - val_loss: 0.9190 - val_accuracy: 0.8080\n",
            "Epoch 11/20\n",
            "7982/7982 [==============================] - 1s 163us/step - loss: 0.1372 - accuracy: 0.9562 - val_loss: 0.9000 - val_accuracy: 0.8110\n",
            "Epoch 12/20\n",
            "7982/7982 [==============================] - 1s 163us/step - loss: 0.1281 - accuracy: 0.9578 - val_loss: 0.9267 - val_accuracy: 0.8200\n",
            "Epoch 13/20\n",
            "7982/7982 [==============================] - 1s 158us/step - loss: 0.1208 - accuracy: 0.9570 - val_loss: 0.9984 - val_accuracy: 0.8020\n",
            "Epoch 14/20\n",
            "7982/7982 [==============================] - 1s 161us/step - loss: 0.1152 - accuracy: 0.9569 - val_loss: 0.9960 - val_accuracy: 0.8080\n",
            "Epoch 15/20\n",
            "7982/7982 [==============================] - 1s 161us/step - loss: 0.1148 - accuracy: 0.9563 - val_loss: 1.0023 - val_accuracy: 0.8120\n",
            "Epoch 16/20\n",
            "7982/7982 [==============================] - 1s 160us/step - loss: 0.1110 - accuracy: 0.9583 - val_loss: 1.0961 - val_accuracy: 0.7990\n",
            "Epoch 17/20\n",
            "7982/7982 [==============================] - 1s 160us/step - loss: 0.1069 - accuracy: 0.9567 - val_loss: 1.0784 - val_accuracy: 0.8090\n",
            "Epoch 18/20\n",
            "7982/7982 [==============================] - 1s 164us/step - loss: 0.1070 - accuracy: 0.9588 - val_loss: 1.0594 - val_accuracy: 0.8090\n",
            "Epoch 19/20\n",
            "7982/7982 [==============================] - 1s 161us/step - loss: 0.1033 - accuracy: 0.9580 - val_loss: 1.1170 - val_accuracy: 0.8120\n",
            "Epoch 20/20\n",
            "7982/7982 [==============================] - 1s 159us/step - loss: 0.1024 - accuracy: 0.9567 - val_loss: 1.1730 - val_accuracy: 0.7940\n",
            "2246/2246 [==============================] - 0s 99us/step\n"
          ],
          "name": "stdout"
        },
        {
          "output_type": "execute_result",
          "data": {
            "text/plain": [
              "0.7791629433631897"
            ]
          },
          "metadata": {
            "tags": []
          },
          "execution_count": 19
        }
      ]
    },
    {
      "cell_type": "markdown",
      "metadata": {
        "id": "gldwCoKB3oiI"
      },
      "source": [
        "## Wrapping up\n",
        "\n",
        "\n",
        "Here's what you should take away from this example:\n",
        "\n",
        "* If you are trying to classify data points between N classes, your network should end with a `Dense` layer of size N.\n",
        "* In a single-label, multi-class classification problem, your network should end with a `softmax` activation, so that it will output a \n",
        "probability distribution over the N output classes.\n",
        "* _Categorical crossentropy_ is almost always the loss function you should use for such problems. It minimizes the distance between the \n",
        "probability distributions output by the network, and the true distribution of the targets.\n",
        "* There are two ways to handle labels in multi-class classification:\n",
        "    ** Encoding the labels via \"categorical encoding\" (also known as \"one-hot encoding\") and using `categorical_crossentropy` as your loss \n",
        "function.\n",
        "    ** Encoding the labels as integers and using the `sparse_categorical_crossentropy` loss function.\n",
        "* If you need to classify data into a large number of categories, then you should avoid creating information bottlenecks in your network by having \n",
        "intermediate layers that are too small."
      ]
    },
    {
      "cell_type": "markdown",
      "metadata": {
        "id": "aKekl-HuGXiU"
      },
      "source": [
        "## Bonus Point\n",
        "Can you think of other methods to further improve the model performance? Code it up and evaluate them."
      ]
    },
    {
      "cell_type": "code",
      "metadata": {
        "id": "38I30otcrO-r",
        "colab": {
          "base_uri": "https://localhost:8080/"
        },
        "outputId": "66eae101-9e02-42d2-f3e6-fff28d1fa243"
      },
      "source": [
        "# usse tanh activation instead\n",
        "model5 = keras.Sequential()\n",
        "model5.add(layers.Dense(64, activation='tanh',input_shape=(10000,)))\n",
        "model5.add(layers.Dense(64, activation='tanh'))\n",
        "model5.add(layers.Dense(46, activation='softmax'))\n",
        "\n",
        "model5.compile(\n",
        "    optimizer = 'rmsprop',\n",
        "    loss='categorical_crossentropy',\n",
        "    metrics=['accuracy']\n",
        ")\n",
        "\n",
        "model5.fit(\n",
        "    partial_x_train, \n",
        "    partial_y_train, \n",
        "    epochs=10, \n",
        "    batch_size=512, \n",
        "    validation_data=(x_val, y_val)\n",
        ")\n",
        "\n",
        "test_loss5, test_acc5 = model5.evaluate(x_test, y_test)\n",
        "test_acc5"
      ],
      "execution_count": 20,
      "outputs": [
        {
          "output_type": "stream",
          "text": [
            "Train on 7982 samples, validate on 1000 samples\n",
            "Epoch 1/10\n",
            "7982/7982 [==============================] - 1s 128us/step - loss: 2.2860 - accuracy: 0.5564 - val_loss: 1.5548 - val_accuracy: 0.6610\n",
            "Epoch 2/10\n",
            "7982/7982 [==============================] - 1s 111us/step - loss: 1.2852 - accuracy: 0.7347 - val_loss: 1.2220 - val_accuracy: 0.7210\n",
            "Epoch 3/10\n",
            "7982/7982 [==============================] - 1s 111us/step - loss: 0.9627 - accuracy: 0.8074 - val_loss: 1.0517 - val_accuracy: 0.7890\n",
            "Epoch 4/10\n",
            "7982/7982 [==============================] - 1s 109us/step - loss: 0.7470 - accuracy: 0.8587 - val_loss: 0.9572 - val_accuracy: 0.7960\n",
            "Epoch 5/10\n",
            "7982/7982 [==============================] - 1s 114us/step - loss: 0.5851 - accuracy: 0.8934 - val_loss: 0.9019 - val_accuracy: 0.8060\n",
            "Epoch 6/10\n",
            "7982/7982 [==============================] - 1s 111us/step - loss: 0.4598 - accuracy: 0.9173 - val_loss: 0.8806 - val_accuracy: 0.8070\n",
            "Epoch 7/10\n",
            "7982/7982 [==============================] - 1s 110us/step - loss: 0.3631 - accuracy: 0.9342 - val_loss: 0.8320 - val_accuracy: 0.8200\n",
            "Epoch 8/10\n",
            "7982/7982 [==============================] - 1s 110us/step - loss: 0.2914 - accuracy: 0.9427 - val_loss: 0.8284 - val_accuracy: 0.8300\n",
            "Epoch 9/10\n",
            "7982/7982 [==============================] - 1s 110us/step - loss: 0.2395 - accuracy: 0.9490 - val_loss: 0.8317 - val_accuracy: 0.8120\n",
            "Epoch 10/10\n",
            "7982/7982 [==============================] - 1s 108us/step - loss: 0.1983 - accuracy: 0.9511 - val_loss: 0.8358 - val_accuracy: 0.8150\n",
            "2246/2246 [==============================] - 0s 107us/step\n"
          ],
          "name": "stdout"
        },
        {
          "output_type": "execute_result",
          "data": {
            "text/plain": [
              "0.7876224517822266"
            ]
          },
          "metadata": {
            "tags": []
          },
          "execution_count": 20
        }
      ]
    },
    {
      "cell_type": "markdown",
      "metadata": {
        "id": "l7CGM-0QrOrp"
      },
      "source": [
        "# End of HW1"
      ]
    }
  ]
}